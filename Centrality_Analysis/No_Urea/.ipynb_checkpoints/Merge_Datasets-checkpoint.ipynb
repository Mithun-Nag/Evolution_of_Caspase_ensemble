{
 "cells": [
  {
   "cell_type": "code",
   "execution_count": 1,
   "id": "aa67dbe7",
   "metadata": {},
   "outputs": [],
   "source": [
    "import pandas as pd\n",
    "import numpy as np"
   ]
  },
  {
   "cell_type": "markdown",
   "id": "a5714045",
   "metadata": {},
   "source": [
    "## Extract all files"
   ]
  },
  {
   "cell_type": "code",
   "execution_count": 2,
   "id": "caf34a13",
   "metadata": {},
   "outputs": [
    {
     "name": "stdout",
     "output_type": "stream",
     "text": [
      "['A_AFA_aligned.csv', 'A_Anc_37_aligned.csv', 'A_Anc_6_aligned.csv', 'A_Anc_cFLIP_aligned.csv', 'A_AO810_aligned.csv', 'A_AOE_1_aligned.csv', 'A_AOE_2_aligned.csv', 'A_AOI_1_aligned.csv', 'A_AOI_2_aligned.csv', 'A_ASA_aligned.csv', 'A_ATA_aligned.csv', 'A_cFLIP_aligned.csv', 'A_Cp10_aligned.csv', 'A_Cp3_aligned.csv', 'A_Cp6_aligned.csv', 'A_Cp7_aligned.csv', 'A_Cp8_aligned.csv', 'D_AFA_aligned.csv', 'D_Anc_37_aligned.csv', 'D_Anc_6_aligned.csv', 'D_Anc_cFLIP_aligned.csv', 'D_AOE_1_aligned.csv', 'D_AOE_2_aligned.csv', 'D_AOI_1_aligned.csv', 'D_AOI_2_aligned.csv', 'D_ASA_aligned.csv', 'D_ATA_aligned.csv', 'D_cFLIP_aligned.csv', 'D_Cp10_aligned.csv', 'D_Cp3_aligned.csv', 'D_Cp6_aligned.csv', 'D_Cp7_aligned.csv', 'D_Cp8_aligned.csv', 'M_AFA_aligned.csv', 'M_Anc_37_aligned.csv', 'M_Anc_6_aligned.csv', 'M_Anc_cFLIP_aligned.csv', 'M_AO810_aligned.csv', 'M_AOE_1_aligned.csv', 'M_AOE_2_aligned.csv', 'M_AOI_1_aligned.csv', 'M_AOI_2_aligned.csv', 'M_ASA_aligned.csv', 'M_ATA_aligned.csv', 'M_cFLIP_aligned.csv', 'M_Cp10_aligned.csv', 'M_Cp3_aligned.csv', 'M_Cp6_aligned.csv', 'M_Cp7_aligned.csv', 'M_Cp8_aligned.csv']\n"
     ]
    }
   ],
   "source": [
    "import os\n",
    "\n",
    "# folder path\n",
    "dir_path = os.getcwd()\n",
    "\n",
    "# list to store files\n",
    "files = []\n",
    "# Iterate directory\n",
    "for file in os.listdir(dir_path):\n",
    "    # check only text files\n",
    "    if file.endswith('.csv'):\n",
    "        files.append(file)\n",
    "print(files)"
   ]
  },
  {
   "cell_type": "code",
   "execution_count": 7,
   "id": "a9213691",
   "metadata": {},
   "outputs": [
    {
     "data": {
      "text/plain": [
       "50"
      ]
     },
     "execution_count": 7,
     "metadata": {},
     "output_type": "execute_result"
    }
   ],
   "source": [
    "len(files)"
   ]
  },
  {
   "cell_type": "code",
   "execution_count": 8,
   "id": "438b92ee",
   "metadata": {},
   "outputs": [],
   "source": [
    "dfs = pd.read_csv(files[0])\n",
    "\n",
    "for i in range(1,len(files)):\n",
    "    dfn = pd.read_csv(files[i])\n",
    "    dfs = pd.concat([dfs,dfn], axis=1)\n",
    "dfs.to_csv('Merge_No_Urea.csv',index=False)\n",
    "    "
   ]
  },
  {
   "cell_type": "code",
   "execution_count": 4,
   "id": "0dc5d3a4",
   "metadata": {},
   "outputs": [
    {
     "data": {
      "text/html": [
       "<div>\n",
       "<style scoped>\n",
       "    .dataframe tbody tr th:only-of-type {\n",
       "        vertical-align: middle;\n",
       "    }\n",
       "\n",
       "    .dataframe tbody tr th {\n",
       "        vertical-align: top;\n",
       "    }\n",
       "\n",
       "    .dataframe thead th {\n",
       "        text-align: right;\n",
       "    }\n",
       "</style>\n",
       "<table border=\"1\" class=\"dataframe\">\n",
       "  <thead>\n",
       "    <tr style=\"text-align: right;\">\n",
       "      <th></th>\n",
       "      <th>A_AFA_CFNO</th>\n",
       "      <th>A_AFA_NAME</th>\n",
       "      <th>A_AFA_REFNO</th>\n",
       "      <th>A_AFA_DC</th>\n",
       "      <th>A_AFA_BC</th>\n",
       "    </tr>\n",
       "  </thead>\n",
       "  <tbody>\n",
       "    <tr>\n",
       "      <th>0</th>\n",
       "      <td>10.0</td>\n",
       "      <td>A/TYR</td>\n",
       "      <td>10.0</td>\n",
       "      <td>15.26</td>\n",
       "      <td>1622.0</td>\n",
       "    </tr>\n",
       "    <tr>\n",
       "      <th>1</th>\n",
       "      <td>11.0</td>\n",
       "      <td>A/LYS</td>\n",
       "      <td>11.0</td>\n",
       "      <td>4.36</td>\n",
       "      <td>1025.0</td>\n",
       "    </tr>\n",
       "    <tr>\n",
       "      <th>2</th>\n",
       "      <td>12.0</td>\n",
       "      <td>A/MET</td>\n",
       "      <td>12.0</td>\n",
       "      <td>7.22</td>\n",
       "      <td>0.0</td>\n",
       "    </tr>\n",
       "    <tr>\n",
       "      <th>3</th>\n",
       "      <td>13.0</td>\n",
       "      <td>A/ASN</td>\n",
       "      <td>13.0</td>\n",
       "      <td>2.96</td>\n",
       "      <td>824.0</td>\n",
       "    </tr>\n",
       "    <tr>\n",
       "      <th>4</th>\n",
       "      <td>14.0</td>\n",
       "      <td>A/HIS</td>\n",
       "      <td>14.0</td>\n",
       "      <td>5.77</td>\n",
       "      <td>623.0</td>\n",
       "    </tr>\n",
       "  </tbody>\n",
       "</table>\n",
       "</div>"
      ],
      "text/plain": [
       "   A_AFA_CFNO A_AFA_NAME  A_AFA_REFNO  A_AFA_DC  A_AFA_BC\n",
       "0        10.0      A/TYR         10.0     15.26    1622.0\n",
       "1        11.0      A/LYS         11.0      4.36    1025.0\n",
       "2        12.0      A/MET         12.0      7.22       0.0\n",
       "3        13.0      A/ASN         13.0      2.96     824.0\n",
       "4        14.0      A/HIS         14.0      5.77     623.0"
      ]
     },
     "execution_count": 4,
     "metadata": {},
     "output_type": "execute_result"
    }
   ],
   "source": [
    "df1 = pd.read_csv('A_AFA_aligned.csv')\n",
    "df2 = pd.read_csv('A_Anc_37_aligned.csv')\n",
    "df1.head()"
   ]
  },
  {
   "cell_type": "code",
   "execution_count": 5,
   "id": "9c28ef5b",
   "metadata": {},
   "outputs": [
    {
     "ename": "AttributeError",
     "evalue": "'DataFrame' object has no attribute 'concat'",
     "output_type": "error",
     "traceback": [
      "\u001b[1;31m---------------------------------------------------------------------------\u001b[0m",
      "\u001b[1;31mAttributeError\u001b[0m                            Traceback (most recent call last)",
      "Input \u001b[1;32mIn [5]\u001b[0m, in \u001b[0;36m<cell line: 1>\u001b[1;34m()\u001b[0m\n\u001b[1;32m----> 1\u001b[0m \u001b[43mdf1\u001b[49m\u001b[38;5;241;43m.\u001b[39;49m\u001b[43mconcat\u001b[49m(df2)\n",
      "File \u001b[1;32m~\\Anaconda3\\lib\\site-packages\\pandas\\core\\generic.py:5575\u001b[0m, in \u001b[0;36mNDFrame.__getattr__\u001b[1;34m(self, name)\u001b[0m\n\u001b[0;32m   5568\u001b[0m \u001b[38;5;28;01mif\u001b[39;00m (\n\u001b[0;32m   5569\u001b[0m     name \u001b[38;5;129;01mnot\u001b[39;00m \u001b[38;5;129;01min\u001b[39;00m \u001b[38;5;28mself\u001b[39m\u001b[38;5;241m.\u001b[39m_internal_names_set\n\u001b[0;32m   5570\u001b[0m     \u001b[38;5;129;01mand\u001b[39;00m name \u001b[38;5;129;01mnot\u001b[39;00m \u001b[38;5;129;01min\u001b[39;00m \u001b[38;5;28mself\u001b[39m\u001b[38;5;241m.\u001b[39m_metadata\n\u001b[0;32m   5571\u001b[0m     \u001b[38;5;129;01mand\u001b[39;00m name \u001b[38;5;129;01mnot\u001b[39;00m \u001b[38;5;129;01min\u001b[39;00m \u001b[38;5;28mself\u001b[39m\u001b[38;5;241m.\u001b[39m_accessors\n\u001b[0;32m   5572\u001b[0m     \u001b[38;5;129;01mand\u001b[39;00m \u001b[38;5;28mself\u001b[39m\u001b[38;5;241m.\u001b[39m_info_axis\u001b[38;5;241m.\u001b[39m_can_hold_identifiers_and_holds_name(name)\n\u001b[0;32m   5573\u001b[0m ):\n\u001b[0;32m   5574\u001b[0m     \u001b[38;5;28;01mreturn\u001b[39;00m \u001b[38;5;28mself\u001b[39m[name]\n\u001b[1;32m-> 5575\u001b[0m \u001b[38;5;28;01mreturn\u001b[39;00m \u001b[38;5;28;43mobject\u001b[39;49m\u001b[38;5;241;43m.\u001b[39;49m\u001b[38;5;21;43m__getattribute__\u001b[39;49m\u001b[43m(\u001b[49m\u001b[38;5;28;43mself\u001b[39;49m\u001b[43m,\u001b[49m\u001b[43m \u001b[49m\u001b[43mname\u001b[49m\u001b[43m)\u001b[49m\n",
      "\u001b[1;31mAttributeError\u001b[0m: 'DataFrame' object has no attribute 'concat'"
     ]
    }
   ],
   "source": []
  },
  {
   "cell_type": "code",
   "execution_count": 13,
   "id": "60b8f12d",
   "metadata": {},
   "outputs": [],
   "source": [
    "d = pd.concat([df1,df2],axis=1)\n",
    "d.to_csv('Trial1.csv', index=False)"
   ]
  },
  {
   "cell_type": "code",
   "execution_count": null,
   "id": "650aa1b0",
   "metadata": {},
   "outputs": [],
   "source": []
  }
 ],
 "metadata": {
  "kernelspec": {
   "display_name": "Python 3 (ipykernel)",
   "language": "python",
   "name": "python3"
  },
  "language_info": {
   "codemirror_mode": {
    "name": "ipython",
    "version": 3
   },
   "file_extension": ".py",
   "mimetype": "text/x-python",
   "name": "python",
   "nbconvert_exporter": "python",
   "pygments_lexer": "ipython3",
   "version": "3.9.12"
  }
 },
 "nbformat": 4,
 "nbformat_minor": 5
}
