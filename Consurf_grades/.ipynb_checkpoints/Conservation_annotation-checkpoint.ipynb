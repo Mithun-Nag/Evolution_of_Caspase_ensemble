{
 "cells": [
  {
   "cell_type": "code",
   "execution_count": 13,
   "id": "4a3ed2af-2a49-4eb4-aa1f-a11c10d43538",
   "metadata": {},
   "outputs": [],
   "source": [
    "import pandas as pd\n",
    "\n",
    "# Step 1: Load the Excel file\n",
    "input_file = \"Consurf_Scores_pre_Processing.xlsx\"\n",
    "df = pd.read_excel(input_file)\n",
    "\n",
    "# Step 2: Clean column names\n",
    "df.columns = df.columns.str.strip().str.encode('ascii', 'ignore').str.decode('utf-8')\n",
    "\n",
    "# Step 3: Convert Conservation_Score to numeric\n",
    "df[\"Conservation_Score\"] = pd.to_numeric(df[\"Conservation_Score\"], errors='coerce')\n",
    "\n",
    "# Step 4: Assign conservation categories\n",
    "def assign_conservation(score):\n",
    "    if pd.isna(score):\n",
    "        return \"Unknown\"\n",
    "    elif score >= 8:\n",
    "        return \"Highly Conserved\"\n",
    "    elif 5 <= score <= 7:\n",
    "        return \"Intermediate\"\n",
    "    else:\n",
    "        return \"Variable\"\n",
    "\n",
    "df[\"Conservation\"] = df[\"Conservation_Score\"].apply(assign_conservation)\n",
    "\n",
    "# Step 5: Reorder and export output\n",
    "output_df = df[[\"A_Cp8_Numbering\", \"short_SS\", \"Conservation_Score\", \"Conservation\"]]\n",
    "output_df.to_csv(\"Conservation_Annotation_Output.csv\", index=False)"
   ]
  },
  {
   "cell_type": "code",
   "execution_count": null,
   "id": "185d94e7-0b5e-4e83-b029-f9094fd06a4f",
   "metadata": {},
   "outputs": [],
   "source": []
  }
 ],
 "metadata": {
  "kernelspec": {
   "display_name": "Python [conda env:base] *",
   "language": "python",
   "name": "conda-base-py"
  },
  "language_info": {
   "codemirror_mode": {
    "name": "ipython",
    "version": 3
   },
   "file_extension": ".py",
   "mimetype": "text/x-python",
   "name": "python",
   "nbconvert_exporter": "python",
   "pygments_lexer": "ipython3",
   "version": "3.12.7"
  }
 },
 "nbformat": 4,
 "nbformat_minor": 5
}
